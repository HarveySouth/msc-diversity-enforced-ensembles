{
 "cells": [
  {
   "cell_type": "markdown",
   "metadata": {},
   "source": [
    "## Intro\n",
    "\n",
    "This notebook runs bagged sklearn Trees on the Abalone dataset in a regression scenario"
   ]
  },
  {
   "cell_type": "code",
   "execution_count": 1,
   "metadata": {},
   "outputs": [],
   "source": [
    "# # # local\n",
    "project_directory = \"../\"\n",
    "\n",
    "\n",
    "# # # # colab\n",
    "# from google.colab import drive\n",
    "# drive.mount('/content/drive')\n",
    "# project_directory = \"/content/drive/MyDrive/colab_working_directory/diversity-enforced-ensembles/\"\n",
    "# !pip install cached-property"
   ]
  },
  {
   "cell_type": "code",
   "execution_count": 2,
   "metadata": {},
   "outputs": [],
   "source": [
    "from pathlib import Path\n",
    "import pandas as pd\n",
    "import numpy as np\n",
    "\n",
    "# allow import of decompose locally\n",
    "import sys\n",
    "sys.path.append(project_directory + 'src/')\n",
    "\n",
    "from sklearn.ensemble import BaggingRegressor\n",
    "from decompose import SquaredLoss\n",
    "import bvdlib\n",
    "from sklearn.metrics import mean_squared_error"
   ]
  },
  {
   "cell_type": "markdown",
   "metadata": {},
   "source": [
    "## Pre-Process Data"
   ]
  },
  {
   "cell_type": "code",
   "execution_count": 3,
   "metadata": {},
   "outputs": [],
   "source": [
    "save_path = project_directory + \"experiments/results/Abalone_Bagged_Tree_Regression.pkl\""
   ]
  },
  {
   "cell_type": "code",
   "execution_count": 4,
   "metadata": {},
   "outputs": [
    {
     "name": "stdout",
     "output_type": "stream",
     "text": [
      "x shape (4177, 8)\n",
      "y shape (4177,)\n"
     ]
    }
   ],
   "source": [
    "# get data\n",
    "\n",
    "data_path = Path(project_directory + 'data/Abalone/data.csv')\n",
    "abalone_data = pd.read_csv(data_path)\n",
    "\n",
    "x = abalone_data.iloc[:, 1:-1].to_numpy()\n",
    "y = abalone_data.iloc[:, -1].to_numpy().squeeze()\n",
    "\n",
    "print(\"x shape\", x.shape)\n",
    "print(\"y shape\", y.shape)"
   ]
  },
  {
   "cell_type": "code",
   "execution_count": 5,
   "metadata": {},
   "outputs": [
    {
     "name": "stdout",
     "output_type": "stream",
     "text": [
      "x shape (4177, 9)\n"
     ]
    }
   ],
   "source": [
    "# convert categorical value to a vector\n",
    "onehot_list = []\n",
    "for val in x[:,0]:\n",
    "    if val == 'I':\n",
    "        onehot_list.append([0,1])\n",
    "    elif val =='M':\n",
    "        onehot_list.append([1,0])\n",
    "    else:\n",
    "        onehot_list.append([0,0])\n",
    "onehot_vecs =   np.array(onehot_list)\n",
    "\n",
    "x = x[:, 1:]\n",
    "x = np.concatenate([onehot_vecs, x], axis=1)\n",
    "print(\"x shape\", x.shape)"
   ]
  },
  {
   "cell_type": "code",
   "execution_count": 6,
   "metadata": {},
   "outputs": [],
   "source": [
    "#define settings\n",
    "\n",
    "n_trials = 100\n",
    "data_percentage_training = int(0.8 * len(y))\n",
    "num_training =  int(0.8 * data_percentage_training) # percent of data for each trial from training\n",
    "trial_space = np.arange(1,21) # Test estimators from 1 to 20"
   ]
  },
  {
   "cell_type": "code",
   "execution_count": 7,
   "metadata": {},
   "outputs": [],
   "source": [
    "# seed experiment\n",
    "experiment_seed = 0\n",
    "np.random.seed(experiment_seed)\n",
    "# split and preprocess data,\n",
    "rng = np.random.default_rng()\n",
    "shuffled_indices = rng.permutation(len(y))\n",
    "\n",
    "train_indices = shuffled_indices[:data_percentage_training]\n",
    "test_indices = shuffled_indices[data_percentage_training:]\n",
    "train_data = x[train_indices, :]\n",
    "train_labels = y[train_indices]\n",
    "test_data = x[test_indices, :]\n",
    "test_labels = y[test_indices]"
   ]
  },
  {
   "cell_type": "markdown",
   "metadata": {},
   "source": [
    "## Run Experiments"
   ]
  },
  {
   "cell_type": "code",
   "execution_count": 8,
   "metadata": {},
   "outputs": [
    {
     "name": "stdout",
     "output_type": "stream",
     "text": [
      "0\n",
      "1\n",
      "2\n",
      "3\n",
      "4\n",
      "5\n",
      "6\n",
      "7\n",
      "8\n",
      "9\n",
      "10\n",
      "11\n",
      "12\n",
      "13\n",
      "14\n",
      "15\n",
      "16\n",
      "17\n",
      "18\n",
      "19\n"
     ]
    }
   ],
   "source": [
    "model_function = BaggingRegressor\n",
    "decomp_fn = SquaredLoss\n",
    "loss_fn = mean_squared_error\n",
    "\n",
    "# define a trial\n",
    "def trial_run(trial):\n",
    "\n",
    "    trial_x, trial_y = trial.get_data\n",
    "\n",
    "    # init model\n",
    "    n_estim = trial.get_singular_parameter()\n",
    "    model = model_function(n_estimators=n_estim)\n",
    "\n",
    "    model.fit(trial_x, trial_y)\n",
    "\n",
    "\n",
    "    trial_results_array = np.zeros((n_estim, len(test_data)))\n",
    "\n",
    "    train_losses = []\n",
    "    for i, member in enumerate(model.estimators_):\n",
    "        train_preds = member.predict(trial_x)\n",
    "        train_losses.append(loss_fn(trial_y, train_preds))\n",
    "        member_preds = member.predict(test_data)\n",
    "        trial_results_array[i, :] = member_preds\n",
    "\n",
    "    return trial_results_array, np.mean(train_losses)\n",
    "\n",
    "# save results\n",
    "    \n",
    "\n",
    "study = bvdlib.Study(trial_space, train_data, train_labels, test_data, test_labels, \n",
    "                     num_training, n_trials, decomp_fn)\n",
    "\n",
    "results = study.run_trials(trial_run)\n",
    "\n",
    "\n",
    "results.save_results(save_path)"
   ]
  },
  {
   "cell_type": "code",
   "execution_count": 9,
   "metadata": {},
   "outputs": [
    {
     "data": {
      "text/plain": [
       "<Axes: xlabel='n_estimators'>"
      ]
     },
     "execution_count": 9,
     "metadata": {},
     "output_type": "execute_result"
    },
    {
     "data": {
      "image/png": "[encoded data removed]",
      "text/plain": [
       "<Figure size 640x480 with 1 Axes>"
      ]
     },
     "metadata": {},
     "output_type": "display_data"
    }
   ],
   "source": [
    "from decompose.plotting_utils import plot_bvd\n",
    "\n",
    "plot_bvd(results)"
   ]
  }
 ],
 "metadata": {
  "kernelspec": {
   "display_name": "ensemble-diversity",
   "language": "python",
   "name": "python3"
  },
  "language_info": {
   "codemirror_mode": {
    "name": "ipython",
    "version": 3
   },
   "file_extension": ".py",
   "mimetype": "text/x-python",
   "name": "python",
   "nbconvert_exporter": "python",
   "pygments_lexer": "ipython3",
   "version": "3.12.3"
  }
 },
 "nbformat": 4,
 "nbformat_minor": 2
}
