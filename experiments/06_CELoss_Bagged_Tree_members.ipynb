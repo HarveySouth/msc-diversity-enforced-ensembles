{
 "cells": [
  {
   "cell_type": "markdown",
   "metadata": {},
   "source": [
    "## Intro\n",
    "\n",
    "This notebook runs bagged sklearn trees on the multi class AG_news dataset"
   ]
  },
  {
   "cell_type": "code",
   "execution_count": 15,
   "metadata": {},
   "outputs": [],
   "source": [
    "# # # local\n",
    "project_directory = \"../\"\n",
    "\n",
    "\n",
    "# # # # colab\n",
    "# from google.colab import drive\n",
    "# drive.mount('/content/drive')\n",
    "# project_directory = \"/content/drive/MyDrive/colab_working_directory/diversity-enforced-ensembles/\"\n",
    "# !pip install cached-property"
   ]
  },
  {
   "cell_type": "code",
   "execution_count": 16,
   "metadata": {},
   "outputs": [],
   "source": [
    "from pathlib import Path\n",
    "import pandas as pd\n",
    "import numpy as np\n",
    "\n",
    "# allow import of decompose locally\n",
    "import sys\n",
    "sys.path.append(project_directory + 'src/')\n",
    "\n",
    "from sklearn.tree import DecisionTreeClassifier\n",
    "from sklearn.ensemble import BaggingClassifier\n",
    "from decompose import CrossEntropy\n",
    "import bvdlib\n",
    "from sklearn.metrics import log_loss\n",
    "\n",
    "from gensim.models import FastText\n",
    "from gensim.utils import tokenize"
   ]
  },
  {
   "cell_type": "code",
   "execution_count": 17,
   "metadata": {},
   "outputs": [],
   "source": [
    "save_path = project_directory + \"experiments/results/SKlearn_baggedTree_over_n_members_text_MCCELoss.pkl\""
   ]
  },
  {
   "cell_type": "markdown",
   "metadata": {},
   "source": [
    "## Pre-Process Data"
   ]
  },
  {
   "cell_type": "code",
   "execution_count": 18,
   "metadata": {},
   "outputs": [],
   "source": [
    "# get data\n",
    "import pandas as pd\n",
    "\n",
    "splits = {'train': 'data/train-00000-of-00001.parquet', 'test': 'data/test-00000-of-00001.parquet'}\n",
    "train_df = pd.read_parquet(\"hf://datasets/fancyzhx/ag_news/\" + splits[\"train\"])\n",
    "test_df = pd.read_parquet(\"hf://datasets/fancyzhx/ag_news/\" + splits[\"test\"])\n",
    "\n",
    "train_labels  = train_df['label'].to_numpy()\n",
    "test_labels = test_df['label'].to_numpy()\n",
    "\n",
    "train_df = train_df['text'].to_numpy()\n",
    "test_df = test_df['text'].to_numpy()"
   ]
  },
  {
   "cell_type": "code",
   "execution_count": 19,
   "metadata": {},
   "outputs": [
    {
     "ename": "KeyboardInterrupt",
     "evalue": "",
     "output_type": "error",
     "traceback": [
      "\u001b[0;31m---------------------------------------------------------------------------\u001b[0m",
      "\u001b[0;31mKeyboardInterrupt\u001b[0m                         Traceback (most recent call last)",
      "Cell \u001b[0;32mIn[19], line 7\u001b[0m\n\u001b[1;32m      4\u001b[0m         tokenized_data\u001b[38;5;241m.\u001b[39mappend(\u001b[38;5;28mlist\u001b[39m(tokenize(sent)))\n\u001b[1;32m      5\u001b[0m     \u001b[38;5;28;01mreturn\u001b[39;00m tokenized_data\n\u001b[0;32m----> 7\u001b[0m tokenized_training \u001b[38;5;241m=\u001b[39m \u001b[43mtokenizedoc\u001b[49m\u001b[43m(\u001b[49m\u001b[43mtrain_df\u001b[49m\u001b[43m)\u001b[49m\n\u001b[1;32m      8\u001b[0m tokenized_testing \u001b[38;5;241m=\u001b[39m tokenizedoc(test_df)\n",
      "Cell \u001b[0;32mIn[19], line 4\u001b[0m, in \u001b[0;36mtokenizedoc\u001b[0;34m(data)\u001b[0m\n\u001b[1;32m      2\u001b[0m tokenized_data \u001b[38;5;241m=\u001b[39m []\n\u001b[1;32m      3\u001b[0m \u001b[38;5;28;01mfor\u001b[39;00m sent \u001b[38;5;129;01min\u001b[39;00m data:\n\u001b[0;32m----> 4\u001b[0m     tokenized_data\u001b[38;5;241m.\u001b[39mappend(\u001b[38;5;28;43mlist\u001b[39;49m\u001b[43m(\u001b[49m\u001b[43mtokenize\u001b[49m\u001b[43m(\u001b[49m\u001b[43msent\u001b[49m\u001b[43m)\u001b[49m\u001b[43m)\u001b[49m)\n\u001b[1;32m      5\u001b[0m \u001b[38;5;28;01mreturn\u001b[39;00m tokenized_data\n",
      "File \u001b[0;32m/opt/miniconda3/envs/ensemble-diversity/lib/python3.12/site-packages/gensim/utils.py:285\u001b[0m, in \u001b[0;36msimple_tokenize\u001b[0;34m(text)\u001b[0m\n\u001b[1;32m    271\u001b[0m \u001b[38;5;250m\u001b[39m\u001b[38;5;124;03m\"\"\"Tokenize input test using :const:`gensim.utils.PAT_ALPHABETIC`.\u001b[39;00m\n\u001b[1;32m    272\u001b[0m \n\u001b[1;32m    273\u001b[0m \u001b[38;5;124;03mParameters\u001b[39;00m\n\u001b[0;32m   (...)\u001b[0m\n\u001b[1;32m    282\u001b[0m \n\u001b[1;32m    283\u001b[0m \u001b[38;5;124;03m\"\"\"\u001b[39;00m\n\u001b[1;32m    284\u001b[0m \u001b[38;5;28;01mfor\u001b[39;00m match \u001b[38;5;129;01min\u001b[39;00m PAT_ALPHABETIC\u001b[38;5;241m.\u001b[39mfinditer(text):\n\u001b[0;32m--> 285\u001b[0m     \u001b[38;5;28;01myield\u001b[39;00m \u001b[43mmatch\u001b[49m\u001b[38;5;241;43m.\u001b[39;49m\u001b[43mgroup\u001b[49m\u001b[43m(\u001b[49m\u001b[43m)\u001b[49m\n",
      "\u001b[0;31mKeyboardInterrupt\u001b[0m: "
     ]
    }
   ],
   "source": [
    "def tokenizedoc(data):\n",
    "    tokenized_data = []\n",
    "    for sent in data:\n",
    "        tokenized_data.append(list(tokenize(sent)))\n",
    "    return tokenized_data\n",
    "\n",
    "tokenized_training = tokenizedoc(train_df)\n",
    "tokenized_testing = tokenizedoc(test_df)"
   ]
  },
  {
   "cell_type": "code",
   "execution_count": null,
   "metadata": {},
   "outputs": [],
   "source": [
    "model = FastText(vector_size=16, window=3, min_count=1, sentences=tokenized_training, epochs=10, seed=0)"
   ]
  },
  {
   "cell_type": "code",
   "execution_count": null,
   "metadata": {},
   "outputs": [
    {
     "name": "stdout",
     "output_type": "stream",
     "text": [
      "Train data shape (120000, 16)\n",
      "Test data shape (7600, 16)\n"
     ]
    }
   ],
   "source": [
    "def gen_sent_vecs(model, token_list):\n",
    "    sent_vecs = []\n",
    "    for sent in token_list:\n",
    "        sent_vecs.append(model.wv.get_sentence_vector(sent))\n",
    "    return sent_vecs\n",
    "train_data = np.array(gen_sent_vecs(model, tokenized_training))\n",
    "test_data = np.array(gen_sent_vecs(model, tokenized_testing))\n",
    "\n",
    "print(\"Train data shape\", train_data.shape)\n",
    "print(\"Test data shape\", test_data.shape)"
   ]
  },
  {
   "cell_type": "code",
   "execution_count": null,
   "metadata": {},
   "outputs": [],
   "source": [
    "# reduce samples, classes remain roughly balanced\n",
    "reduced_len_test = 500\n",
    "reduced_len_train = 4500\n",
    "\n",
    "test_data = test_data[:reduced_len_test]\n",
    "test_labels = test_labels[:reduced_len_test]\n",
    "\n",
    "train_labels = train_labels[:reduced_len_train]\n",
    "train_data = train_data[:reduced_len_train]"
   ]
  },
  {
   "cell_type": "code",
   "execution_count": null,
   "metadata": {},
   "outputs": [],
   "source": [
    "#define settings\n",
    "\n",
    "n_trials = 100\n",
    "trial_space = np.arange(1,21) # Test estimators from 1 to 20\n",
    "num_training = int(0.8 * len(train_data))"
   ]
  },
  {
   "cell_type": "code",
   "execution_count": null,
   "metadata": {},
   "outputs": [],
   "source": [
    "# seed experiment\n",
    "experiment_seed = 0\n",
    "np.random.seed(experiment_seed)"
   ]
  },
  {
   "cell_type": "markdown",
   "metadata": {},
   "source": [
    "## Run Experiments"
   ]
  },
  {
   "cell_type": "code",
   "execution_count": null,
   "metadata": {},
   "outputs": [
    {
     "name": "stderr",
     "output_type": "stream",
     "text": [
      "  0%|          | 0/20 [00:00<?, ?it/s]"
     ]
    },
    {
     "name": "stderr",
     "output_type": "stream",
     "text": [
      "100%|██████████| 100/100 [00:06<00:00, 14.61it/s]\n",
      "100%|██████████| 100/100 [00:13<00:00,  7.40it/s]\n",
      "100%|██████████| 100/100 [00:18<00:00,  5.37it/s]\n",
      "100%|██████████| 100/100 [00:25<00:00,  3.94it/s]\n",
      "100%|██████████| 100/100 [00:28<00:00,  3.50it/s]\n",
      "100%|██████████| 100/100 [00:33<00:00,  3.02it/s]\n",
      "100%|██████████| 100/100 [00:38<00:00,  2.60it/s]\n",
      "100%|██████████| 100/100 [00:44<00:00,  2.25it/s]\n",
      "100%|██████████| 100/100 [00:50<00:00,  1.96it/s]\n",
      "100%|██████████| 100/100 [00:58<00:00,  1.70it/s]\n",
      "100%|██████████| 100/100 [01:03<00:00,  1.58it/s]\n",
      "100%|██████████| 100/100 [01:08<00:00,  1.46it/s]\n",
      "100%|██████████| 100/100 [01:14<00:00,  1.34it/s]\n",
      "100%|██████████| 100/100 [01:20<00:00,  1.25it/s]\n",
      "100%|██████████| 100/100 [01:23<00:00,  1.20it/s]\n",
      "100%|██████████| 100/100 [01:30<00:00,  1.11it/s]\n",
      "100%|██████████| 100/100 [01:35<00:00,  1.05it/s]\n",
      "100%|██████████| 100/100 [01:44<00:00,  1.05s/it]\n",
      "100%|██████████| 100/100 [01:48<00:00,  1.09s/it]\n",
      "100%|██████████| 100/100 [01:52<00:00,  1.12s/it]\n",
      "100%|██████████| 20/20 [20:05<00:00, 60.29s/it] \n"
     ]
    }
   ],
   "source": [
    "model_function = BaggingClassifier\n",
    "member_model = DecisionTreeClassifier\n",
    "decomp_fn = CrossEntropy\n",
    "loss_fn = log_loss\n",
    "smoothing_factor = 1e-8\n",
    "class_num = len(np.unique(train_labels))\n",
    "\n",
    "# define a trial\n",
    "def trial_run(trial):\n",
    "\n",
    "    trial_x, trial_y = trial.get_data\n",
    "\n",
    "    # init model\n",
    "    n_estim = trial.get_singular_parameter()\n",
    "    model = model_function(n_estimators=n_estim, estimator = member_model(criterion=\"log_loss\"))\n",
    "\n",
    "    model.fit(trial_x, trial_y)\n",
    "\n",
    "\n",
    "    trial_results_array = np.zeros((n_estim, len(test_data), class_num))\n",
    "\n",
    "    train_losses = []\n",
    "    for i, member in enumerate(model.estimators_):\n",
    "        train_preds = member.predict_proba(trial_x)\n",
    "        train_losses.append(loss_fn(trial_y, train_preds))\n",
    "        member_preds = member.predict_proba(test_data)\n",
    "        trial_results_array[i, :] = member_preds\n",
    "\n",
    "    trial_results_array = (1 - smoothing_factor) * trial_results_array + smoothing_factor * (np.ones_like(trial_results_array)) * (1. / trial_results_array.shape[-1])\n",
    "\n",
    "    return trial_results_array, np.mean(train_losses)\n",
    "\n",
    "    \n",
    "\n",
    "study = bvdlib.Study(trial_space, train_data, train_labels, test_data, test_labels, \n",
    "                     num_training, n_trials, decomp_fn)\n",
    "results = study.run_trials(trial_run)\n",
    "results.save_results(save_path)"
   ]
  },
  {
   "cell_type": "code",
   "execution_count": 20,
   "metadata": {},
   "outputs": [
    {
     "data": {
      "text/plain": [
       "<Axes: xlabel='n_estimators'>"
      ]
     },
     "execution_count": 20,
     "metadata": {},
     "output_type": "execute_result"
    },
    {
     "data": {
      "image/png": "[encoded data removed]",
      "text/plain": [
       "<Figure size 640x480 with 1 Axes>"
      ]
     },
     "metadata": {},
     "output_type": "display_data"
    }
   ],
   "source": [
    "from decompose.plotting_utils import plot_bvd\n",
    "\n",
    "plot_bvd(results)"
   ]
  }
 ],
 "metadata": {
  "kernelspec": {
   "display_name": "ensemble-diversity",
   "language": "python",
   "name": "python3"
  },
  "language_info": {
   "codemirror_mode": {
    "name": "ipython",
    "version": 3
   },
   "file_extension": ".py",
   "mimetype": "text/x-python",
   "name": "python",
   "nbconvert_exporter": "python",
   "pygments_lexer": "ipython3",
   "version": "3.12.3"
  }
 },
 "nbformat": 4,
 "nbformat_minor": 2
}
