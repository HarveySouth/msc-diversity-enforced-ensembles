{
 "cells": [
  {
   "cell_type": "markdown",
   "metadata": {},
   "source": [
    "## Intro\n",
    "\n",
    "This notebook runs the negative correlation algorithm for squared loss through pytorch, and measure the diversity"
   ]
  },
  {
   "cell_type": "code",
   "execution_count": 1,
   "metadata": {},
   "outputs": [],
   "source": [
    "# # # local\n",
    "project_directory = \"../\"\n",
    "\n",
    "\n",
    "# # # # colab\n",
    "# from google.colab import drive\n",
    "# drive.mount('/content/drive')\n",
    "# project_directory = \"/content/drive/MyDrive/colab_working_directory/diversity-enforced-ensembles/\"\n",
    "# !pip install cached-property"
   ]
  },
  {
   "cell_type": "code",
   "execution_count": 2,
   "metadata": {},
   "outputs": [],
   "source": [
    "from pathlib import Path\n",
    "import os\n",
    "import pandas as pd\n",
    "import numpy as np\n",
    "from sklearn.preprocessing import LabelEncoder\n",
    "\n",
    "# allow import of decompose locally\n",
    "import sys\n",
    "sys.path.append(project_directory + 'src/')\n",
    "\n",
    "from decompose import SquaredLoss\n",
    "import bvdlib\n",
    "import ml_utils\n",
    "from ml_utils.torch_data_utils import minimal_implementation_dataset\n",
    "from ml_utils.ensemble_utils import SimpleMLP\n",
    "from ml_utils.ensemble_utils import Ensemble_Runner\n",
    "from ml_utils.ensemble_utils import torch_MSE_combiner\n",
    "\n",
    "import torch\n",
    "import torch.nn as nn\n",
    "import torch.nn.functional as F"
   ]
  },
  {
   "cell_type": "code",
   "execution_count": 3,
   "metadata": {},
   "outputs": [],
   "source": [
    "save_path_without_extension = project_directory + \"experiments/results/stepbased_NCL_Regression_CaliforniaHousing_small\""
   ]
  },
  {
   "cell_type": "markdown",
   "metadata": {},
   "source": [
    "## Pre-Process Data"
   ]
  },
  {
   "cell_type": "code",
   "execution_count": 4,
   "metadata": {},
   "outputs": [
    {
     "name": "stdout",
     "output_type": "stream",
     "text": [
      "x shape (20640, 8)\n",
      "y shape (20640,)\n"
     ]
    }
   ],
   "source": [
    "# get data\n",
    "\n",
    "from sklearn.datasets import fetch_california_housing\n",
    "housing = fetch_california_housing()\n",
    "\n",
    "x = housing['data']\n",
    "y = housing['target']\n",
    "\n",
    "print(\"x shape\", x.shape)\n",
    "print(\"y shape\", y.shape)"
   ]
  },
  {
   "cell_type": "code",
   "execution_count": 5,
   "metadata": {},
   "outputs": [
    {
     "name": "stdout",
     "output_type": "stream",
     "text": [
      "[0.   0.05 0.1  0.15 0.2  0.25 0.3  0.35 0.4  0.45 0.5  0.55 0.6  0.65]\n"
     ]
    }
   ],
   "source": [
    "#define settings\n",
    "\n",
    "n_trials = 75\n",
    "data_percentage_training = int(0.8 * len(y))\n",
    "num_training =  int(0.8 * data_percentage_training) # percent of data for each trial from training\n",
    "trial_space = np.arange(0,7, 0.5) / 10\n",
    "print(trial_space)\n",
    "\n",
    "learning_rate = 0.06\n",
    "take_steps_rather_than_epoch = True\n",
    "consider_epoch_every_x_steps = 5"
   ]
  },
  {
   "cell_type": "code",
   "execution_count": 6,
   "metadata": {},
   "outputs": [],
   "source": [
    "# seed experiment\n",
    "experiment_seed = 0\n",
    "np.random.seed(experiment_seed)\n",
    "torch_generator = torch.manual_seed(experiment_seed)\n",
    "# split and preprocess data,\n",
    "rng = np.random.default_rng()\n",
    "shuffled_indices = rng.permutation(len(y))\n",
    "\n",
    "\n",
    "x = x.astype(float)\n",
    "y = y.astype(float)\n",
    "train_indices = shuffled_indices[:data_percentage_training]\n",
    "test_indices = shuffled_indices[data_percentage_training:]\n",
    "train_data = x[train_indices, :]\n",
    "train_labels = y[train_indices]\n",
    "test_data = x[test_indices, :]\n",
    "test_labels = y[test_indices]"
   ]
  },
  {
   "cell_type": "code",
   "execution_count": 7,
   "metadata": {},
   "outputs": [],
   "source": [
    "decomp_fn = SquaredLoss\n",
    "device = torch.device('cuda' if torch.cuda.is_available() else 'cpu')\n",
    "\n",
    "criterion = torch.nn.MSELoss()\n",
    "test_dset = minimal_implementation_dataset(test_data, test_labels, device)\n",
    "test_loader = torch.utils.data.DataLoader(test_dset, batch_size = len(test_dset), shuffle=False)\n",
    "chosen_model = SimpleMLP\n",
    "combiner_rule = torch_MSE_combiner\n",
    "\n",
    "parameter_dictionary = {\n",
    "    \"epoch_n\": 20,\n",
    "    \"estimator_n\": 11,\n",
    "    \"batch_size\" : 128,\n",
    "    \"hidden_size\" : 8,\n",
    "    \"hidden_layer_num\" : 2,\n",
    "    \"device\" : device,\n",
    "    \"combiner_rule\" : combiner_rule,\n",
    "    \"criterion\" : criterion,\n",
    "}\n",
    "\n"
   ]
  },
  {
   "cell_type": "code",
   "execution_count": 8,
   "metadata": {},
   "outputs": [],
   "source": [
    "# with estim 10 lambda upper = m**2 / (2((m-1)**2) = 0.605 for estim (m) = 11"
   ]
  },
  {
   "cell_type": "markdown",
   "metadata": {},
   "source": [
    "## Run Experiments"
   ]
  },
  {
   "cell_type": "code",
   "execution_count": 9,
   "metadata": {},
   "outputs": [
    {
     "name": "stderr",
     "output_type": "stream",
     "text": [
      "  0%|          | 0/75 [00:14<?, ?it/s]\n",
      "  0%|          | 0/14 [00:14<?, ?it/s]\n"
     ]
    },
    {
     "ename": "KeyboardInterrupt",
     "evalue": "",
     "output_type": "error",
     "traceback": [
      "\u001b[0;31m---------------------------------------------------------------------------\u001b[0m",
      "\u001b[0;31mKeyboardInterrupt\u001b[0m                         Traceback (most recent call last)",
      "Cell \u001b[0;32mIn[9], line 121\u001b[0m\n\u001b[1;32m    117\u001b[0m results_objs \u001b[38;5;241m=\u001b[39m \u001b[38;5;241m-\u001b[39m(total_step_count_estimate \u001b[38;5;241m/\u001b[39m\u001b[38;5;241m/\u001b[39m \u001b[38;5;241m-\u001b[39mconsider_epoch_every_x_steps)\u001b[38;5;241m+\u001b[39m\u001b[38;5;241m1\u001b[39m \u001b[38;5;66;03m# ceiling divison plus 0 step result object\u001b[39;00m\n\u001b[1;32m    118\u001b[0m study \u001b[38;5;241m=\u001b[39m bvdlib\u001b[38;5;241m.\u001b[39mNCL_Study(trial_space, parameter_dictionary, train_data, train_labels, test_data, test_labels, \n\u001b[1;32m    119\u001b[0m                     num_training, n_trials, decomp_fn, num_results_objects\u001b[38;5;241m=\u001b[39mresults_objs, estimator_n\u001b[38;5;241m=\u001b[39mparameter_dictionary[\u001b[38;5;124m'\u001b[39m\u001b[38;5;124mestimator_n\u001b[39m\u001b[38;5;124m'\u001b[39m])\n\u001b[0;32m--> 121\u001b[0m results \u001b[38;5;241m=\u001b[39m \u001b[43mstudy\u001b[49m\u001b[38;5;241;43m.\u001b[39;49m\u001b[43mrun_trials\u001b[49m\u001b[43m(\u001b[49m\u001b[43mtrial_run\u001b[49m\u001b[43m)\u001b[49m\n\u001b[1;32m    123\u001b[0m \u001b[38;5;28;01mif\u001b[39;00m \u001b[38;5;129;01mnot\u001b[39;00m os\u001b[38;5;241m.\u001b[39mpath\u001b[38;5;241m.\u001b[39mexists(save_path_without_extension):\n\u001b[1;32m    124\u001b[0m     os\u001b[38;5;241m.\u001b[39mmakedirs(save_path_without_extension)\n",
      "File \u001b[0;32m~/work/EDMP/diversity-enforced-ensembles/experiments/../src/bvdlib/ncl_study.py:146\u001b[0m, in \u001b[0;36mNCL_Study.run_trials\u001b[0;34m(self, trial_function)\u001b[0m\n\u001b[1;32m    142\u001b[0m trial \u001b[38;5;241m=\u001b[39m Trial(\u001b[38;5;28mself\u001b[39m\u001b[38;5;241m.\u001b[39mtrain_data[trial_idx], \n\u001b[1;32m    143\u001b[0m             \u001b[38;5;28mself\u001b[39m\u001b[38;5;241m.\u001b[39mtrain_labels[trial_idx],\n\u001b[1;32m    144\u001b[0m             \u001b[38;5;28mself\u001b[39m\u001b[38;5;241m.\u001b[39mparam_dict)\n\u001b[1;32m    145\u001b[0m \u001b[38;5;66;03m#run trial\u001b[39;00m\n\u001b[0;32m--> 146\u001b[0m trial_results, train_losses, indiv_train_losses, indiv_test_losses, test_losses \u001b[38;5;241m=\u001b[39m \u001b[43mtrial_function\u001b[49m\u001b[43m(\u001b[49m\u001b[43mtrial\u001b[49m\u001b[43m)\u001b[49m\n\u001b[1;32m    148\u001b[0m \u001b[38;5;28;01mfor\u001b[39;00m result_num \u001b[38;5;129;01min\u001b[39;00m \u001b[38;5;28mrange\u001b[39m(\u001b[38;5;28mself\u001b[39m\u001b[38;5;241m.\u001b[39mnum_results_objects):\n\u001b[1;32m    149\u001b[0m     \u001b[38;5;66;03m# update the average loss after a trial\u001b[39;00m\n\u001b[1;32m    150\u001b[0m     total_train_loss_epoch[result_num] \u001b[38;5;241m+\u001b[39m\u001b[38;5;241m=\u001b[39m (\u001b[38;5;241m1\u001b[39m\u001b[38;5;241m/\u001b[39m\u001b[38;5;28mself\u001b[39m\u001b[38;5;241m.\u001b[39mn_trials) \u001b[38;5;241m*\u001b[39m train_losses[result_num]\n",
      "Cell \u001b[0;32mIn[9], line 84\u001b[0m, in \u001b[0;36mtrial_run\u001b[0;34m(trial)\u001b[0m\n\u001b[1;32m     82\u001b[0m       ens_grad_output \u001b[38;5;241m=\u001b[39m params[\u001b[38;5;124m'\u001b[39m\u001b[38;5;124mcombiner_rule\u001b[39m\u001b[38;5;124m'\u001b[39m](member_grad_output)\n\u001b[1;32m     83\u001b[0m       losses[i] \u001b[38;5;241m=\u001b[39m ((\u001b[38;5;241m0.5\u001b[39m\u001b[38;5;241m*\u001b[39m trial_criterion(member_pred, batch_y\u001b[38;5;241m.\u001b[39munsqueeze(dim\u001b[38;5;241m=\u001b[39m\u001b[38;5;241m-\u001b[39m\u001b[38;5;241m1\u001b[39m))) \u001b[38;5;241m-\u001b[39m ((lambda_) \u001b[38;5;241m*\u001b[39m trial_criterion(member_pred, ens_grad_output)))\n\u001b[0;32m---> 84\u001b[0m       \u001b[43mlosses\u001b[49m\u001b[43m[\u001b[49m\u001b[43mi\u001b[49m\u001b[43m]\u001b[49m\u001b[38;5;241;43m.\u001b[39;49m\u001b[43mbackward\u001b[49m\u001b[43m(\u001b[49m\u001b[43m)\u001b[49m\n\u001b[1;32m     85\u001b[0m       optims[i]\u001b[38;5;241m.\u001b[39mstep()\n\u001b[1;32m     86\u001b[0m     \u001b[38;5;66;03m# print(member_loss)\u001b[39;00m\n\u001b[1;32m     87\u001b[0m       \n\u001b[1;32m     88\u001b[0m \u001b[38;5;66;03m#do inference\u001b[39;00m\n",
      "File \u001b[0;32m/opt/miniconda3/envs/ensemble-diversity/lib/python3.12/site-packages/torch/_tensor.py:521\u001b[0m, in \u001b[0;36mTensor.backward\u001b[0;34m(self, gradient, retain_graph, create_graph, inputs)\u001b[0m\n\u001b[1;32m    511\u001b[0m \u001b[38;5;28;01mif\u001b[39;00m has_torch_function_unary(\u001b[38;5;28mself\u001b[39m):\n\u001b[1;32m    512\u001b[0m     \u001b[38;5;28;01mreturn\u001b[39;00m handle_torch_function(\n\u001b[1;32m    513\u001b[0m         Tensor\u001b[38;5;241m.\u001b[39mbackward,\n\u001b[1;32m    514\u001b[0m         (\u001b[38;5;28mself\u001b[39m,),\n\u001b[0;32m   (...)\u001b[0m\n\u001b[1;32m    519\u001b[0m         inputs\u001b[38;5;241m=\u001b[39minputs,\n\u001b[1;32m    520\u001b[0m     )\n\u001b[0;32m--> 521\u001b[0m \u001b[43mtorch\u001b[49m\u001b[38;5;241;43m.\u001b[39;49m\u001b[43mautograd\u001b[49m\u001b[38;5;241;43m.\u001b[39;49m\u001b[43mbackward\u001b[49m\u001b[43m(\u001b[49m\n\u001b[1;32m    522\u001b[0m \u001b[43m    \u001b[49m\u001b[38;5;28;43mself\u001b[39;49m\u001b[43m,\u001b[49m\u001b[43m \u001b[49m\u001b[43mgradient\u001b[49m\u001b[43m,\u001b[49m\u001b[43m \u001b[49m\u001b[43mretain_graph\u001b[49m\u001b[43m,\u001b[49m\u001b[43m \u001b[49m\u001b[43mcreate_graph\u001b[49m\u001b[43m,\u001b[49m\u001b[43m \u001b[49m\u001b[43minputs\u001b[49m\u001b[38;5;241;43m=\u001b[39;49m\u001b[43minputs\u001b[49m\n\u001b[1;32m    523\u001b[0m \u001b[43m\u001b[49m\u001b[43m)\u001b[49m\n",
      "File \u001b[0;32m/opt/miniconda3/envs/ensemble-diversity/lib/python3.12/site-packages/torch/autograd/__init__.py:289\u001b[0m, in \u001b[0;36mbackward\u001b[0;34m(tensors, grad_tensors, retain_graph, create_graph, grad_variables, inputs)\u001b[0m\n\u001b[1;32m    284\u001b[0m     retain_graph \u001b[38;5;241m=\u001b[39m create_graph\n\u001b[1;32m    286\u001b[0m \u001b[38;5;66;03m# The reason we repeat the same comment below is that\u001b[39;00m\n\u001b[1;32m    287\u001b[0m \u001b[38;5;66;03m# some Python versions print out the first line of a multi-line function\u001b[39;00m\n\u001b[1;32m    288\u001b[0m \u001b[38;5;66;03m# calls in the traceback and some print out the last line\u001b[39;00m\n\u001b[0;32m--> 289\u001b[0m \u001b[43m_engine_run_backward\u001b[49m\u001b[43m(\u001b[49m\n\u001b[1;32m    290\u001b[0m \u001b[43m    \u001b[49m\u001b[43mtensors\u001b[49m\u001b[43m,\u001b[49m\n\u001b[1;32m    291\u001b[0m \u001b[43m    \u001b[49m\u001b[43mgrad_tensors_\u001b[49m\u001b[43m,\u001b[49m\n\u001b[1;32m    292\u001b[0m \u001b[43m    \u001b[49m\u001b[43mretain_graph\u001b[49m\u001b[43m,\u001b[49m\n\u001b[1;32m    293\u001b[0m \u001b[43m    \u001b[49m\u001b[43mcreate_graph\u001b[49m\u001b[43m,\u001b[49m\n\u001b[1;32m    294\u001b[0m \u001b[43m    \u001b[49m\u001b[43minputs\u001b[49m\u001b[43m,\u001b[49m\n\u001b[1;32m    295\u001b[0m \u001b[43m    \u001b[49m\u001b[43mallow_unreachable\u001b[49m\u001b[38;5;241;43m=\u001b[39;49m\u001b[38;5;28;43;01mTrue\u001b[39;49;00m\u001b[43m,\u001b[49m\n\u001b[1;32m    296\u001b[0m \u001b[43m    \u001b[49m\u001b[43maccumulate_grad\u001b[49m\u001b[38;5;241;43m=\u001b[39;49m\u001b[38;5;28;43;01mTrue\u001b[39;49;00m\u001b[43m,\u001b[49m\n\u001b[1;32m    297\u001b[0m \u001b[43m\u001b[49m\u001b[43m)\u001b[49m\n",
      "File \u001b[0;32m/opt/miniconda3/envs/ensemble-diversity/lib/python3.12/site-packages/torch/autograd/graph.py:768\u001b[0m, in \u001b[0;36m_engine_run_backward\u001b[0;34m(t_outputs, *args, **kwargs)\u001b[0m\n\u001b[1;32m    766\u001b[0m     unregister_hooks \u001b[38;5;241m=\u001b[39m _register_logging_hooks_on_whole_graph(t_outputs)\n\u001b[1;32m    767\u001b[0m \u001b[38;5;28;01mtry\u001b[39;00m:\n\u001b[0;32m--> 768\u001b[0m     \u001b[38;5;28;01mreturn\u001b[39;00m \u001b[43mVariable\u001b[49m\u001b[38;5;241;43m.\u001b[39;49m\u001b[43m_execution_engine\u001b[49m\u001b[38;5;241;43m.\u001b[39;49m\u001b[43mrun_backward\u001b[49m\u001b[43m(\u001b[49m\u001b[43m  \u001b[49m\u001b[38;5;66;43;03m# Calls into the C++ engine to run the backward pass\u001b[39;49;00m\n\u001b[1;32m    769\u001b[0m \u001b[43m        \u001b[49m\u001b[43mt_outputs\u001b[49m\u001b[43m,\u001b[49m\u001b[43m \u001b[49m\u001b[38;5;241;43m*\u001b[39;49m\u001b[43margs\u001b[49m\u001b[43m,\u001b[49m\u001b[43m \u001b[49m\u001b[38;5;241;43m*\u001b[39;49m\u001b[38;5;241;43m*\u001b[39;49m\u001b[43mkwargs\u001b[49m\n\u001b[1;32m    770\u001b[0m \u001b[43m    \u001b[49m\u001b[43m)\u001b[49m  \u001b[38;5;66;03m# Calls into the C++ engine to run the backward pass\u001b[39;00m\n\u001b[1;32m    771\u001b[0m \u001b[38;5;28;01mfinally\u001b[39;00m:\n\u001b[1;32m    772\u001b[0m     \u001b[38;5;28;01mif\u001b[39;00m attach_logging_hooks:\n",
      "\u001b[0;31mKeyboardInterrupt\u001b[0m: "
     ]
    }
   ],
   "source": [
    "# define a trial\n",
    "def trial_run(trial):\n",
    "  \n",
    "\n",
    "  #setup trial\n",
    "  params = trial.get_params\n",
    "  trial_estimators = params['estimator_n']\n",
    "  epoch_results = []\n",
    "  epoch_ens_train_losses = []\n",
    "  epoch_ens_test_losses = []\n",
    "  epoch_member_train_losses = []\n",
    "  epoch_member_test_losses = []\n",
    "\n",
    "  trial_x, trial_y = trial.get_data\n",
    "  trial_dset = minimal_implementation_dataset(trial_x, trial_y, params['device'])\n",
    "  trial_dloader = torch.utils.data.DataLoader(trial_dset, batch_size = params['batch_size'], shuffle=True, generator=torch_generator)\n",
    "  # trial_unshuffled_dloader = torch.utils.data.DataLoader(trial_dset, batch_size = len(trial_dset), shuffle=False)\n",
    "\n",
    "  trial_criterion = params['criterion']\n",
    "  # init model\n",
    "  ensemble = []\n",
    "  optims = []\n",
    "  losses = []\n",
    "\n",
    "  \n",
    "  for member_n in range(trial_estimators):\n",
    "      ensemble.append(SimpleMLP(len(trial_x[0]), 1, params['hidden_size'], params['hidden_layer_num'], torch_generator).to(params['device']))\n",
    "      optims.append(torch.optim.SGD(ensemble[member_n].parameters(), lr=learning_rate, momentum=0.9))\n",
    "      losses.append(None)\n",
    "      \n",
    "  ens_runner = Ensemble_Runner(ensemble[0], params['combiner_rule'])\n",
    "  lambda_ = params['lambda']\n",
    "\n",
    "  overall_trial_stepcount = 0\n",
    "\n",
    "\n",
    "  #run training\n",
    "  for epoch in range(params['epoch_n']):\n",
    "     \n",
    "    trial_results_array = np.zeros((trial_estimators, len(test_data)))\n",
    "\n",
    "    for batch_idx, (batch_x, batch_y) in enumerate(trial_dloader):\n",
    "      # get detached ensemble output\n",
    "\n",
    "      if take_steps_rather_than_epoch:\n",
    "        \n",
    "        if overall_trial_stepcount % consider_epoch_every_x_steps == 0:\n",
    "          \n",
    "          # print(overall_trial_stepcount, batch_idx)\n",
    "          member_test_losses = np.zeros((trial_estimators))\n",
    "          member_train_losses = np.zeros((trial_estimators))\n",
    "          with torch.no_grad():\n",
    "              trial_x_to_runnable = torch.tensor(trial_x).type(torch.float).to(params['device'])\n",
    "              trial_y_to_runnable = torch.tensor(trial_y).unsqueeze(dim=-1).type(torch.float).to(params['device'])\n",
    "              test_x_to_runnable = torch.tensor(test_data).type(torch.float).to(params['device'])\n",
    "              test_y_to_ens_runnable = torch.tensor(test_labels).unsqueeze(dim=-1).type(torch.float).to(params['device'])\n",
    "              trial_ensemble_output, trial_member_output = ens_runner.forward(trial_x_to_runnable, ensemble)\n",
    "              test_ensemble_output, test_member_output = ens_runner.forward(test_x_to_runnable, ensemble)\n",
    "              epoch_ens_train_losses.append(trial_criterion(trial_ensemble_output, trial_y_to_runnable).cpu())\n",
    "              epoch_ens_test_losses.append(trial_criterion(test_ensemble_output, test_y_to_ens_runnable).cpu())\n",
    "              trial_results_array = np.array(test_member_output.cpu().squeeze())\n",
    "              for i in range(trial_estimators):\n",
    "                # print(test_y_to_ens_runnable.size())\n",
    "                member_test_losses[i] = trial_criterion(test_member_output[i], test_y_to_ens_runnable).cpu()\n",
    "                member_train_losses[i] = trial_criterion(trial_member_output[i], trial_y_to_runnable).cpu()\n",
    "\n",
    "          epoch_results.append(np.array(trial_results_array))\n",
    "          epoch_member_train_losses.append(np.sort(member_train_losses))\n",
    "          epoch_member_test_losses.append(np.sort(member_test_losses))\n",
    "      overall_trial_stepcount += 1\n",
    "        \n",
    "        \n",
    "\n",
    "      with torch.no_grad():\n",
    "        _, member_output = ens_runner.forward(batch_x, ensemble)\n",
    "        \n",
    "      # update each member\n",
    "      for i, member in enumerate(ensemble):\n",
    "        optims[i].zero_grad()\n",
    "        member_pred = member(batch_x)\n",
    "        member_grad_output = torch.cat((member_output[:i], member_pred.unsqueeze(dim=0), member_output[i+1:]))\n",
    "        ens_grad_output = params['combiner_rule'](member_grad_output)\n",
    "        losses[i] = ((0.5* trial_criterion(member_pred, batch_y.unsqueeze(dim=-1))) - ((lambda_) * trial_criterion(member_pred, ens_grad_output)))\n",
    "        losses[i].backward()\n",
    "        optims[i].step()\n",
    "      # print(member_loss)\n",
    "        \n",
    "  #do inference\n",
    "    if not take_steps_rather_than_epoch:\n",
    "      member_test_losses = np.zeros((trial_estimators))\n",
    "      member_train_losses = np.zeros((trial_estimators))\n",
    "      with torch.no_grad():\n",
    "          trial_x_to_runnable = torch.tensor(trial_x).type(torch.float).to(params['device'])\n",
    "          trial_y_to_runnable = torch.tensor(trial_y).unsqueeze(dim=-1).type(torch.float).to(params['device'])\n",
    "          test_x_to_runnable = torch.tensor(test_data).type(torch.float).to(params['device'])\n",
    "          test_y_to_ens_runnable = torch.tensor(test_labels).unsqueeze(dim=-1).type(torch.float).to(params['device'])\n",
    "          trial_ensemble_output, trial_member_output = ens_runner.forward(trial_x_to_runnable, ensemble)\n",
    "          test_ensemble_output, test_member_output = ens_runner.forward(test_x_to_runnable, ensemble)\n",
    "          epoch_ens_train_losses.append(trial_criterion(trial_ensemble_output, trial_y_to_runnable).cpu())\n",
    "          epoch_ens_test_losses.append(trial_criterion(test_ensemble_output, test_y_to_ens_runnable).cpu())\n",
    "          trial_results_array = np.array(test_member_output.cpu().squeeze())\n",
    "          for i in range(trial_estimators):\n",
    "            # print(test_y_to_ens_runnable.size())\n",
    "            member_test_losses[i] = trial_criterion(test_member_output[i], test_y_to_ens_runnable).cpu()\n",
    "            member_train_losses[i] = trial_criterion(trial_member_output[i], trial_y_to_runnable).cpu()\n",
    "          \n",
    "        \n",
    "      epoch_results.append(np.array(trial_results_array))\n",
    "      epoch_member_train_losses.append(member_train_losses)\n",
    "      epoch_member_test_losses.append(member_test_losses)\n",
    "  \n",
    "  return epoch_results, epoch_ens_train_losses, epoch_member_train_losses, epoch_member_test_losses, epoch_ens_test_losses\n",
    "\n",
    "# save results\n",
    "  \n",
    "total_step_count_estimate = (parameter_dictionary['epoch_n'] * (num_training // parameter_dictionary['batch_size']))\n",
    "results_objs = -(total_step_count_estimate // -consider_epoch_every_x_steps)+1 # ceiling divison plus 0 step result object\n",
    "study = bvdlib.NCL_Study(trial_space, parameter_dictionary, train_data, train_labels, test_data, test_labels, \n",
    "                    num_training, n_trials, decomp_fn, num_results_objects=results_objs, estimator_n=parameter_dictionary['estimator_n'])\n",
    "\n",
    "results = study.run_trials(trial_run)\n",
    "\n",
    "if not os.path.exists(save_path_without_extension):\n",
    "    os.makedirs(save_path_without_extension)\n",
    "\n",
    "for epoch, result in enumerate(results):\n",
    "  this_save_path = save_path_without_extension + \"/stepmeasure_\" + str(epoch) + \".pkl\"\n",
    "  result.save_results(this_save_path)"
   ]
  },
  {
   "cell_type": "code",
   "execution_count": null,
   "metadata": {},
   "outputs": [
    {
     "data": {
      "text/plain": [
       "<Axes: xlabel='lambda'>"
      ]
     },
     "execution_count": 24,
     "metadata": {},
     "output_type": "execute_result"
    },
    {
     "data": {
      "image/png": "[encoded data removed]",
      "text/plain": [
       "<Figure size 640x480 with 1 Axes>"
      ]
     },
     "metadata": {},
     "output_type": "display_data"
    }
   ],
   "source": [
    "from decompose.plotting_utils import plot_bvd\n",
    "print(len(results))\n",
    "results_idx = 25\n",
    "\n",
    "ax = plot_bvd(results[results_idx])\n",
    "# print(results[results_idx].diversity)\n",
    "# print(results[results_idx].average_variance)\n",
    "# ax.set_xlim(0,0.4)results[results_idx]"
   ]
  }
 ],
 "metadata": {
  "kernelspec": {
   "display_name": "ensemble-diversity",
   "language": "python",
   "name": "python3"
  },
  "language_info": {
   "codemirror_mode": {
    "name": "ipython",
    "version": 3
   },
   "file_extension": ".py",
   "mimetype": "text/x-python",
   "name": "python",
   "nbconvert_exporter": "python",
   "pygments_lexer": "ipython3",
   "version": "3.12.3"
  }
 },
 "nbformat": 4,
 "nbformat_minor": 2
}
